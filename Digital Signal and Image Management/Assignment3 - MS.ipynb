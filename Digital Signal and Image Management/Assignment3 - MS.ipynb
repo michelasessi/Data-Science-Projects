{
 "cells": [
  {
   "cell_type": "markdown",
   "metadata": {},
   "source": [
    "# Assignment 3 - Michela Sessi 777760"
   ]
  },
  {
   "cell_type": "markdown",
   "metadata": {},
   "source": [
    "## Classificazione basata sull'estrazione di feature neurali"
   ]
  },
  {
   "cell_type": "code",
   "execution_count": 54,
   "metadata": {
    "collapsed": true
   },
   "outputs": [],
   "source": [
    "import os\n",
    "from matplotlib import pyplot as plt\n",
    "from time import time\n",
    "from skimage import feature\n",
    "from keras.preprocessing import image as kimage\n",
    "import numpy as np\n",
    "from sklearn.svm import SVC\n",
    "from sklearn.model_selection import train_test_split, GridSearchCV\n",
    "from sklearn.metrics import classification_report, confusion_matrix, accuracy_score\n",
    "import joblib\n",
    "from keras.applications import DenseNet121\n",
    "from keras.layers import Input\n",
    "\n",
    "from keras.applications.resnet50 import preprocess_input\n",
    "from keras.applications.xception import preprocess_input "
   ]
  },
  {
   "cell_type": "markdown",
   "metadata": {},
   "source": [
    "Carico la rete neurale DenseNet121 togliendo gli strati fully connected con pooling= \"max\"."
   ]
  },
  {
   "cell_type": "code",
   "execution_count": 12,
   "metadata": {},
   "outputs": [
    {
     "name": "stdout",
     "output_type": "stream",
     "text": [
      "Downloading data from https://github.com/keras-team/keras-applications/releases/download/densenet/densenet121_weights_tf_dim_ordering_tf_kernels_notop.h5\n",
      "29089792/29084464 [==============================] - 7s 0us/step\n"
     ]
    }
   ],
   "source": [
    "net = DenseNet121(include_top=False, weights='imagenet', pooling='max', input_tensor=Input(shape=(224, 224, 3)))"
   ]
  },
  {
   "cell_type": "markdown",
   "metadata": {},
   "source": [
    "La funzione load_data permette di caricare le immagini relative a diverse cartelle. Attraverso la funzione net_features le features estratte sono quelle tramite la rete DenseNet121. \n",
    "Otteniamo quattro oggetti poichè splittati in training and test."
   ]
  },
  {
   "cell_type": "code",
   "execution_count": 23,
   "metadata": {
    "collapsed": true
   },
   "outputs": [],
   "source": [
    "def load_data(feature_extractor, directory, maximages=-1, ext='.jpg'):\n",
    "    base_path = './'+directory+'/'\n",
    "    labels = []\n",
    "    features = []\n",
    "    for di,d in enumerate(sorted(os.listdir(base_path))):\n",
    "        for fi,f in enumerate(sorted(os.listdir(base_path + d + '/'))):\n",
    "            if f.endswith(ext) and (fi<maximages or maximages==-1):\n",
    "                image = kimage.load_img(base_path + d + '/' + f, target_size=(224, 224))\n",
    "                cur_features = feature_extractor(image)\n",
    "                \n",
    "                features.append(cur_features)\n",
    "                labels.append(di)\n",
    "        print(\"Caricate \" + str(fi+1) + \" immagini dalla cartella numero \" + str(di) + \" (\" + d + \")\")\n",
    "        fi = -1\n",
    "    X_train, X_test, y_train, y_test = train_test_split(features, labels, test_size=0.4, shuffle=True, random_state=1)\n",
    "    return X_train, X_test, y_train, y_test\n"
   ]
  },
  {
   "cell_type": "code",
   "execution_count": 46,
   "metadata": {
    "collapsed": true
   },
   "outputs": [],
   "source": [
    "def net_features(img):\n",
    "    x = kimage.img_to_array(img)\n",
    "    x = np.expand_dims(x, axis=0)\n",
    "    x = densenet.preprocess_input(x)\n",
    "    f = net.predict(x)\n",
    "    return f.flatten()"
   ]
  },
  {
   "cell_type": "markdown",
   "metadata": {},
   "source": [
    "### TASK 1: Cani vs Gatti"
   ]
  },
  {
   "cell_type": "markdown",
   "metadata": {},
   "source": [
    "Carichiamo le 500 immagini di cani e le 500 immagini di gatti."
   ]
  },
  {
   "cell_type": "code",
   "execution_count": 47,
   "metadata": {},
   "outputs": [
    {
     "name": "stdout",
     "output_type": "stream",
     "text": [
      "Caricate 500 immagini dalla cartella numero 0 (cat500)\n",
      "Caricate 500 immagini dalla cartella numero 1 (dog500)\n",
      "Caricamento in  573.016 secondi\n"
     ]
    }
   ],
   "source": [
    "t0 = time()\n",
    "X_train, X_test, y_train, y_test=load_data(feature_extractor=net_features, directory=\"Esercitazioni_04_notebook/Esercitazioni_04/classes\")\n",
    "print(\"Caricamento in  %0.3f secondi\" %(time() - t0))"
   ]
  },
  {
   "cell_type": "code",
   "execution_count": 48,
   "metadata": {},
   "outputs": [
    {
     "data": {
      "text/plain": [
       "(1024,)"
      ]
     },
     "execution_count": 48,
     "metadata": {},
     "output_type": "execute_result"
    }
   ],
   "source": [
    "X_train[6].shape"
   ]
  },
  {
   "cell_type": "markdown",
   "metadata": {},
   "source": [
    "Ad ogni immagine sono associate 1024 features. \n",
    "Procediamo quindi a normalizzare."
   ]
  },
  {
   "cell_type": "code",
   "execution_count": 50,
   "metadata": {
    "collapsed": true
   },
   "outputs": [],
   "source": [
    "X_train_stack = np.array([])\n",
    "for t in X_train:\n",
    "    X_train_stack = np.concatenate((X_train_stack, t))\n",
    "eps = 0.001\n",
    "X_train_mean = X_train_stack.mean()\n",
    "X_train_std = X_train_stack.std()\n",
    "X_train = [(t - X_train_mean + eps)/(X_train_std + eps) for t in X_train]\n",
    "X_test = [(t - X_train_mean + eps)/(X_train_std + eps) for t in X_test]"
   ]
  },
  {
   "cell_type": "markdown",
   "metadata": {},
   "source": [
    "Viene allenata una SVM al fine di ottenere la migliore combinazione di parametri."
   ]
  },
  {
   "cell_type": "code",
   "execution_count": 55,
   "metadata": {},
   "outputs": [
    {
     "name": "stdout",
     "output_type": "stream",
     "text": [
      "Addestramento completato in 17.554s\n",
      "Migliore combinazione di parametri:\n",
      " C: 1\n",
      " gamma: 0.001\n"
     ]
    }
   ],
   "source": [
    "param_grid = {'C': [ 0.5, 1, 1.5, 2],\n",
    "          'gamma': [ 0.0001, 0.001, 0.01], }\n",
    "\n",
    "clf = GridSearchCV(SVC(kernel='rbf', class_weight='balanced'), param_grid, cv=5, n_jobs=-1)\n",
    "\n",
    "t2 = time()\n",
    "clf = clf.fit(X_train, y_train)\n",
    "print(\"Addestramento completato in %0.3fs\" % (time() - t2))\n",
    "\n",
    "print(\"Migliore combinazione di parametri:\")\n",
    "print(\" C: \"+str(clf.best_estimator_.C))\n",
    "print(\" gamma: \"+str(clf.best_estimator_.gamma))"
   ]
  },
  {
   "cell_type": "markdown",
   "metadata": {},
   "source": [
    "A seguire i risultati sul test con matrice di confusione e accuracy."
   ]
  },
  {
   "cell_type": "code",
   "execution_count": 56,
   "metadata": {},
   "outputs": [
    {
     "name": "stdout",
     "output_type": "stream",
     "text": [
      "Report di classificazione:\n",
      "             precision    recall  f1-score   support\n",
      "\n",
      "          0       1.00      0.95      0.97       199\n",
      "          1       0.95      1.00      0.98       201\n",
      "\n",
      "avg / total       0.98      0.97      0.97       400\n",
      "\n"
     ]
    }
   ],
   "source": [
    "y_pred = clf.predict(X_test)\n",
    "\n",
    "print(\"Report di classificazione:\")\n",
    "print(classification_report(y_test, y_pred))"
   ]
  },
  {
   "cell_type": "code",
   "execution_count": 57,
   "metadata": {},
   "outputs": [
    {
     "name": "stdout",
     "output_type": "stream",
     "text": [
      "Matrice di confusione:\n",
      "[[189  10]\n",
      " [  0 201]]\n",
      "Accuratezza media= 0.975\n"
     ]
    }
   ],
   "source": [
    "print(\"Matrice di confusione:\")\n",
    "cm = confusion_matrix(y_test, y_pred)\n",
    "print(cm)\n",
    "\n",
    "print(\"Accuratezza media= \" + str(accuracy_score(y_test, y_pred)))"
   ]
  },
  {
   "cell_type": "markdown",
   "metadata": {},
   "source": [
    "Otteniamo dei valori nettamente più elevati. \n",
    "In particolare otteniamo una accuracy del 97.5% rispetto al 70.75% ottenuta con l'estrazione delle features tramite LBP."
   ]
  },
  {
   "cell_type": "markdown",
   "metadata": {},
   "source": [
    "### TASK 2: Flowers"
   ]
  },
  {
   "cell_type": "markdown",
   "metadata": {},
   "source": [
    "Carichiamo un secondo dataset relativo a 5 categorie di fiori e procediamo allo stesso modo.\n",
    "Il dataset è scaricabile al seguente link https://www.kaggle.com/alxmamaev/flowers-recognition"
   ]
  },
  {
   "cell_type": "code",
   "execution_count": 58,
   "metadata": {},
   "outputs": [
    {
     "name": "stdout",
     "output_type": "stream",
     "text": [
      "Caricate 769 immagini dalla cartella numero 0 (daisy)\n",
      "Caricate 1055 immagini dalla cartella numero 1 (dandelion)\n",
      "Caricate 784 immagini dalla cartella numero 2 (rose)\n",
      "Caricate 734 immagini dalla cartella numero 3 (sunflower)\n",
      "Caricate 984 immagini dalla cartella numero 4 (tulip)\n",
      "Caricamento in  2464.035 secondi\n"
     ]
    }
   ],
   "source": [
    "t0 = time()\n",
    "X_train, X_test, y_train, y_test=load_data(feature_extractor=net_features, directory=\"flowers/flowers\", ext='.jpg')\n",
    "print(\"Caricamento in  %0.3f secondi\" %(time() - t0))\n"
   ]
  },
  {
   "cell_type": "code",
   "execution_count": 59,
   "metadata": {
    "collapsed": true
   },
   "outputs": [],
   "source": [
    "X_train_stack = np.array([])\n",
    "for t in X_train:\n",
    "    X_train_stack = np.concatenate((X_train_stack, t))\n",
    "eps = 0.001\n",
    "X_train_mean = X_train_stack.mean()\n",
    "X_train_std = X_train_stack.std()\n",
    "X_train = [(t - X_train_mean + eps)/(X_train_std + eps) for t in X_train]\n",
    "X_test = [(t - X_train_mean + eps)/(X_train_std + eps) for t in X_test]"
   ]
  },
  {
   "cell_type": "markdown",
   "metadata": {},
   "source": [
    "Alleniamo la SVM inizialmente con valori più vari per i parametri e poi (come riportato) intorno ai valori rilevati."
   ]
  },
  {
   "cell_type": "code",
   "execution_count": 67,
   "metadata": {},
   "outputs": [
    {
     "name": "stdout",
     "output_type": "stream",
     "text": [
      "Addestramento completato in 68.912s\n",
      "Migliore combinazione di parametri:\n",
      " C: 8\n",
      " gamma: 0.001\n"
     ]
    }
   ],
   "source": [
    "param_grid = {'C': [ 5, 7, 8, 9, 10 ],\n",
    "          'gamma': [0.00001, 0.0001, 0.001, 0.01, 0.1, 1 ], }\n",
    "\n",
    "clf = GridSearchCV(SVC(kernel='rbf', class_weight='balanced'), param_grid, cv=5, n_jobs=-1)\n",
    "\n",
    "t2 = time()\n",
    "clf = clf.fit(X_train, y_train)\n",
    "print(\"Addestramento completato in %0.3fs\" % (time() - t2))\n",
    "\n",
    "print(\"Migliore combinazione di parametri:\")\n",
    "print(\" C: \"+str(clf.best_estimator_.C))\n",
    "print(\" gamma: \"+str(clf.best_estimator_.gamma))"
   ]
  },
  {
   "cell_type": "markdown",
   "metadata": {},
   "source": [
    "Ottenuti parametri ottimali di C=8 e gamma=0.001 otteniamo il seguente report di classificazione, la matrice di confusione e l'accuracy pari a 0.899."
   ]
  },
  {
   "cell_type": "code",
   "execution_count": 68,
   "metadata": {},
   "outputs": [
    {
     "name": "stdout",
     "output_type": "stream",
     "text": [
      "Report di classificazione:\n",
      "             precision    recall  f1-score   support\n",
      "\n",
      "          0       0.92      0.89      0.90       312\n",
      "          1       0.92      0.93      0.92       430\n",
      "          2       0.85      0.87      0.86       296\n",
      "          3       0.94      0.89      0.92       304\n",
      "          4       0.87      0.90      0.89       388\n",
      "\n",
      "avg / total       0.90      0.90      0.90      1730\n",
      "\n"
     ]
    }
   ],
   "source": [
    "y_pred = clf.predict(X_test)\n",
    "\n",
    "print(\"Report di classificazione:\")\n",
    "print(classification_report(y_test, y_pred))"
   ]
  },
  {
   "cell_type": "code",
   "execution_count": 70,
   "metadata": {},
   "outputs": [
    {
     "name": "stdout",
     "output_type": "stream",
     "text": [
      "Matrice di confusione:\n",
      "[[277  18   5   4   8]\n",
      " [ 15 401   4   7   3]\n",
      " [  3   2 258   3  30]\n",
      " [  5  12   6 272   9]\n",
      " [  1   5  32   2 348]]\n"
     ]
    },
    {
     "data": {
      "image/png": "[encoded data removed]",
      "text/plain": [
       "<matplotlib.figure.Figure at 0x88e1ec35f8>"
      ]
     },
     "metadata": {},
     "output_type": "display_data"
    }
   ],
   "source": [
    "print(\"Matrice di confusione:\")\n",
    "cm = confusion_matrix(y_test, y_pred)\n",
    "print(cm)\n",
    "plt.imshow(cm, cmap='Blues'); plt.show()"
   ]
  },
  {
   "cell_type": "code",
   "execution_count": 79,
   "metadata": {},
   "outputs": [
    {
     "name": "stdout",
     "output_type": "stream",
     "text": [
      "Accuratezza media: 0.8994\n"
     ]
    }
   ],
   "source": [
    "print(\"Accuratezza media: \" + str(round(accuracy_score(y_test, y_pred), 4)))"
   ]
  }
 ],
 "metadata": {
  "kernelspec": {
   "display_name": "Python 3",
   "language": "python",
   "name": "python3"
  },
  "language_info": {
   "codemirror_mode": {
    "name": "ipython",
    "version": 3
   },
   "file_extension": ".py",
   "mimetype": "text/x-python",
   "name": "python",
   "nbconvert_exporter": "python",
   "pygments_lexer": "ipython3",
   "version": "3.6.3"
  }
 },
 "nbformat": 4,
 "nbformat_minor": 2
}
